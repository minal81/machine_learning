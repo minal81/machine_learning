{
  "nbformat": 4,
  "nbformat_minor": 0,
  "metadata": {
    "colab": {
      "name": "Credit Card Fraud Detection.ipynb",
      "provenance": []
    },
    "kernelspec": {
      "name": "python3",
      "display_name": "Python 3"
    },
    "language_info": {
      "name": "python"
    }
  },
  "cells": [
    {
      "cell_type": "markdown",
      "metadata": {
        "id": "TDnoEQTWStTz"
      },
      "source": [
        "Importing the Dependencies"
      ]
    },
    {
      "cell_type": "code",
      "metadata": {
        "id": "hlNfrSC1PGfZ"
      },
      "source": [
        "import numpy as np\n",
        "import pandas as pd\n",
        "from sklearn.model_selection import train_test_split\n",
        "from sklearn.linear_model import LogisticRegression\n",
        "from sklearn.metrics import accuracy_score"
      ],
      "execution_count": 1,
      "outputs": []
    },
    {
      "cell_type": "code",
      "metadata": {
        "id": "W0CTsNioTKnJ"
      },
      "source": [
        "# loading the dataset to a Pandas DataFrame\n",
        "credit_card_data = pd.read_csv('/content/creditcard.csv')"
      ],
      "execution_count": 4,
      "outputs": []
    },
    {
      "cell_type": "code",
      "metadata": {
        "colab": {
          "base_uri": "https://localhost:8080/",
          "height": 224
        },
        "id": "o_iMfyHsTa6s",
        "outputId": "63cc8185-a1f8-4f28-8259-b0fb1cf0ab67"
      },
      "source": [
        "# first 5 rows of the dataset\n",
        "credit_card_data.head()"
      ],
      "execution_count": 5,
      "outputs": [
        {
          "output_type": "execute_result",
          "data": {
            "text/html": [
              "<div>\n",
              "<style scoped>\n",
              "    .dataframe tbody tr th:only-of-type {\n",
              "        vertical-align: middle;\n",
              "    }\n",
              "\n",
              "    .dataframe tbody tr th {\n",
              "        vertical-align: top;\n",
              "    }\n",
              "\n",
              "    .dataframe thead th {\n",
              "        text-align: right;\n",
              "    }\n",
              "</style>\n",
              "<table border=\"1\" class=\"dataframe\">\n",
              "  <thead>\n",
              "    <tr style=\"text-align: right;\">\n",
              "      <th></th>\n",
              "      <th>Time</th>\n",
              "      <th>V1</th>\n",
              "      <th>V2</th>\n",
              "      <th>V3</th>\n",
              "      <th>V4</th>\n",
              "      <th>V5</th>\n",
              "      <th>V6</th>\n",
              "      <th>V7</th>\n",
              "      <th>V8</th>\n",
              "      <th>V9</th>\n",
              "      <th>V10</th>\n",
              "      <th>V11</th>\n",
              "      <th>V12</th>\n",
              "      <th>V13</th>\n",
              "      <th>V14</th>\n",
              "      <th>V15</th>\n",
              "      <th>V16</th>\n",
              "      <th>V17</th>\n",
              "      <th>V18</th>\n",
              "      <th>V19</th>\n",
              "      <th>V20</th>\n",
              "      <th>V21</th>\n",
              "      <th>V22</th>\n",
              "      <th>V23</th>\n",
              "      <th>V24</th>\n",
              "      <th>V25</th>\n",
              "      <th>V26</th>\n",
              "      <th>V27</th>\n",
              "      <th>V28</th>\n",
              "      <th>Amount</th>\n",
              "      <th>Class</th>\n",
              "    </tr>\n",
              "  </thead>\n",
              "  <tbody>\n",
              "    <tr>\n",
              "      <th>0</th>\n",
              "      <td>0</td>\n",
              "      <td>-1.359807</td>\n",
              "      <td>-0.072781</td>\n",
              "      <td>2.536347</td>\n",
              "      <td>1.378155</td>\n",
              "      <td>-0.338321</td>\n",
              "      <td>0.462388</td>\n",
              "      <td>0.239599</td>\n",
              "      <td>0.098698</td>\n",
              "      <td>0.363787</td>\n",
              "      <td>0.090794</td>\n",
              "      <td>-0.551600</td>\n",
              "      <td>-0.617801</td>\n",
              "      <td>-0.991390</td>\n",
              "      <td>-0.311169</td>\n",
              "      <td>1.468177</td>\n",
              "      <td>-0.470401</td>\n",
              "      <td>0.207971</td>\n",
              "      <td>0.025791</td>\n",
              "      <td>0.403993</td>\n",
              "      <td>0.251412</td>\n",
              "      <td>-0.018307</td>\n",
              "      <td>0.277838</td>\n",
              "      <td>-0.110474</td>\n",
              "      <td>0.066928</td>\n",
              "      <td>0.128539</td>\n",
              "      <td>-0.189115</td>\n",
              "      <td>0.133558</td>\n",
              "      <td>-0.021053</td>\n",
              "      <td>149.62</td>\n",
              "      <td>0.0</td>\n",
              "    </tr>\n",
              "    <tr>\n",
              "      <th>1</th>\n",
              "      <td>0</td>\n",
              "      <td>1.191857</td>\n",
              "      <td>0.266151</td>\n",
              "      <td>0.166480</td>\n",
              "      <td>0.448154</td>\n",
              "      <td>0.060018</td>\n",
              "      <td>-0.082361</td>\n",
              "      <td>-0.078803</td>\n",
              "      <td>0.085102</td>\n",
              "      <td>-0.255425</td>\n",
              "      <td>-0.166974</td>\n",
              "      <td>1.612727</td>\n",
              "      <td>1.065235</td>\n",
              "      <td>0.489095</td>\n",
              "      <td>-0.143772</td>\n",
              "      <td>0.635558</td>\n",
              "      <td>0.463917</td>\n",
              "      <td>-0.114805</td>\n",
              "      <td>-0.183361</td>\n",
              "      <td>-0.145783</td>\n",
              "      <td>-0.069083</td>\n",
              "      <td>-0.225775</td>\n",
              "      <td>-0.638672</td>\n",
              "      <td>0.101288</td>\n",
              "      <td>-0.339846</td>\n",
              "      <td>0.167170</td>\n",
              "      <td>0.125895</td>\n",
              "      <td>-0.008983</td>\n",
              "      <td>0.014724</td>\n",
              "      <td>2.69</td>\n",
              "      <td>0.0</td>\n",
              "    </tr>\n",
              "    <tr>\n",
              "      <th>2</th>\n",
              "      <td>1</td>\n",
              "      <td>-1.358354</td>\n",
              "      <td>-1.340163</td>\n",
              "      <td>1.773209</td>\n",
              "      <td>0.379780</td>\n",
              "      <td>-0.503198</td>\n",
              "      <td>1.800499</td>\n",
              "      <td>0.791461</td>\n",
              "      <td>0.247676</td>\n",
              "      <td>-1.514654</td>\n",
              "      <td>0.207643</td>\n",
              "      <td>0.624501</td>\n",
              "      <td>0.066084</td>\n",
              "      <td>0.717293</td>\n",
              "      <td>-0.165946</td>\n",
              "      <td>2.345865</td>\n",
              "      <td>-2.890083</td>\n",
              "      <td>1.109969</td>\n",
              "      <td>-0.121359</td>\n",
              "      <td>-2.261857</td>\n",
              "      <td>0.524980</td>\n",
              "      <td>0.247998</td>\n",
              "      <td>0.771679</td>\n",
              "      <td>0.909412</td>\n",
              "      <td>-0.689281</td>\n",
              "      <td>-0.327642</td>\n",
              "      <td>-0.139097</td>\n",
              "      <td>-0.055353</td>\n",
              "      <td>-0.059752</td>\n",
              "      <td>378.66</td>\n",
              "      <td>0.0</td>\n",
              "    </tr>\n",
              "    <tr>\n",
              "      <th>3</th>\n",
              "      <td>1</td>\n",
              "      <td>-0.966272</td>\n",
              "      <td>-0.185226</td>\n",
              "      <td>1.792993</td>\n",
              "      <td>-0.863291</td>\n",
              "      <td>-0.010309</td>\n",
              "      <td>1.247203</td>\n",
              "      <td>0.237609</td>\n",
              "      <td>0.377436</td>\n",
              "      <td>-1.387024</td>\n",
              "      <td>-0.054952</td>\n",
              "      <td>-0.226487</td>\n",
              "      <td>0.178228</td>\n",
              "      <td>0.507757</td>\n",
              "      <td>-0.287924</td>\n",
              "      <td>-0.631418</td>\n",
              "      <td>-1.059647</td>\n",
              "      <td>-0.684093</td>\n",
              "      <td>1.965775</td>\n",
              "      <td>-1.232622</td>\n",
              "      <td>-0.208038</td>\n",
              "      <td>-0.108300</td>\n",
              "      <td>0.005274</td>\n",
              "      <td>-0.190321</td>\n",
              "      <td>-1.175575</td>\n",
              "      <td>0.647376</td>\n",
              "      <td>-0.221929</td>\n",
              "      <td>0.062723</td>\n",
              "      <td>0.061458</td>\n",
              "      <td>123.50</td>\n",
              "      <td>0.0</td>\n",
              "    </tr>\n",
              "    <tr>\n",
              "      <th>4</th>\n",
              "      <td>2</td>\n",
              "      <td>-1.158233</td>\n",
              "      <td>0.877737</td>\n",
              "      <td>1.548718</td>\n",
              "      <td>0.403034</td>\n",
              "      <td>-0.407193</td>\n",
              "      <td>0.095921</td>\n",
              "      <td>0.592941</td>\n",
              "      <td>-0.270533</td>\n",
              "      <td>0.817739</td>\n",
              "      <td>0.753074</td>\n",
              "      <td>-0.822843</td>\n",
              "      <td>0.538196</td>\n",
              "      <td>1.345852</td>\n",
              "      <td>-1.119670</td>\n",
              "      <td>0.175121</td>\n",
              "      <td>-0.451449</td>\n",
              "      <td>-0.237033</td>\n",
              "      <td>-0.038195</td>\n",
              "      <td>0.803487</td>\n",
              "      <td>0.408542</td>\n",
              "      <td>-0.009431</td>\n",
              "      <td>0.798278</td>\n",
              "      <td>-0.137458</td>\n",
              "      <td>0.141267</td>\n",
              "      <td>-0.206010</td>\n",
              "      <td>0.502292</td>\n",
              "      <td>0.219422</td>\n",
              "      <td>0.215153</td>\n",
              "      <td>69.99</td>\n",
              "      <td>0.0</td>\n",
              "    </tr>\n",
              "  </tbody>\n",
              "</table>\n",
              "</div>"
            ],
            "text/plain": [
              "   Time        V1        V2        V3  ...       V27       V28  Amount  Class\n",
              "0     0 -1.359807 -0.072781  2.536347  ...  0.133558 -0.021053  149.62    0.0\n",
              "1     0  1.191857  0.266151  0.166480  ... -0.008983  0.014724    2.69    0.0\n",
              "2     1 -1.358354 -1.340163  1.773209  ... -0.055353 -0.059752  378.66    0.0\n",
              "3     1 -0.966272 -0.185226  1.792993  ...  0.062723  0.061458  123.50    0.0\n",
              "4     2 -1.158233  0.877737  1.548718  ...  0.219422  0.215153   69.99    0.0\n",
              "\n",
              "[5 rows x 31 columns]"
            ]
          },
          "metadata": {},
          "execution_count": 5
        }
      ]
    },
    {
      "cell_type": "code",
      "metadata": {
        "colab": {
          "base_uri": "https://localhost:8080/",
          "height": 224
        },
        "id": "iWCP6YJjThIM",
        "outputId": "e95f0f14-0a46-4c0f-a507-541854293d85"
      },
      "source": [
        "credit_card_data.tail()"
      ],
      "execution_count": 6,
      "outputs": [
        {
          "output_type": "execute_result",
          "data": {
            "text/html": [
              "<div>\n",
              "<style scoped>\n",
              "    .dataframe tbody tr th:only-of-type {\n",
              "        vertical-align: middle;\n",
              "    }\n",
              "\n",
              "    .dataframe tbody tr th {\n",
              "        vertical-align: top;\n",
              "    }\n",
              "\n",
              "    .dataframe thead th {\n",
              "        text-align: right;\n",
              "    }\n",
              "</style>\n",
              "<table border=\"1\" class=\"dataframe\">\n",
              "  <thead>\n",
              "    <tr style=\"text-align: right;\">\n",
              "      <th></th>\n",
              "      <th>Time</th>\n",
              "      <th>V1</th>\n",
              "      <th>V2</th>\n",
              "      <th>V3</th>\n",
              "      <th>V4</th>\n",
              "      <th>V5</th>\n",
              "      <th>V6</th>\n",
              "      <th>V7</th>\n",
              "      <th>V8</th>\n",
              "      <th>V9</th>\n",
              "      <th>V10</th>\n",
              "      <th>V11</th>\n",
              "      <th>V12</th>\n",
              "      <th>V13</th>\n",
              "      <th>V14</th>\n",
              "      <th>V15</th>\n",
              "      <th>V16</th>\n",
              "      <th>V17</th>\n",
              "      <th>V18</th>\n",
              "      <th>V19</th>\n",
              "      <th>V20</th>\n",
              "      <th>V21</th>\n",
              "      <th>V22</th>\n",
              "      <th>V23</th>\n",
              "      <th>V24</th>\n",
              "      <th>V25</th>\n",
              "      <th>V26</th>\n",
              "      <th>V27</th>\n",
              "      <th>V28</th>\n",
              "      <th>Amount</th>\n",
              "      <th>Class</th>\n",
              "    </tr>\n",
              "  </thead>\n",
              "  <tbody>\n",
              "    <tr>\n",
              "      <th>13949</th>\n",
              "      <td>24754</td>\n",
              "      <td>1.252924</td>\n",
              "      <td>-0.182189</td>\n",
              "      <td>-0.802716</td>\n",
              "      <td>-0.210981</td>\n",
              "      <td>1.916713</td>\n",
              "      <td>3.643624</td>\n",
              "      <td>-0.778711</td>\n",
              "      <td>0.818295</td>\n",
              "      <td>1.706962</td>\n",
              "      <td>-0.539481</td>\n",
              "      <td>0.524218</td>\n",
              "      <td>-2.224983</td>\n",
              "      <td>1.506368</td>\n",
              "      <td>1.469584</td>\n",
              "      <td>-0.670082</td>\n",
              "      <td>0.122806</td>\n",
              "      <td>0.247449</td>\n",
              "      <td>-0.019811</td>\n",
              "      <td>0.418664</td>\n",
              "      <td>-0.001336</td>\n",
              "      <td>-0.497088</td>\n",
              "      <td>-1.211285</td>\n",
              "      <td>0.043809</td>\n",
              "      <td>0.964159</td>\n",
              "      <td>0.442030</td>\n",
              "      <td>0.261483</td>\n",
              "      <td>-0.051402</td>\n",
              "      <td>0.005112</td>\n",
              "      <td>23.74</td>\n",
              "      <td>0.0</td>\n",
              "    </tr>\n",
              "    <tr>\n",
              "      <th>13950</th>\n",
              "      <td>24756</td>\n",
              "      <td>-0.346979</td>\n",
              "      <td>-2.103284</td>\n",
              "      <td>-0.685061</td>\n",
              "      <td>1.961605</td>\n",
              "      <td>-0.401125</td>\n",
              "      <td>0.473632</td>\n",
              "      <td>1.133816</td>\n",
              "      <td>-0.256528</td>\n",
              "      <td>0.893409</td>\n",
              "      <td>-0.639733</td>\n",
              "      <td>2.069409</td>\n",
              "      <td>-1.105807</td>\n",
              "      <td>2.339853</td>\n",
              "      <td>1.921904</td>\n",
              "      <td>-1.153485</td>\n",
              "      <td>-0.336047</td>\n",
              "      <td>0.509636</td>\n",
              "      <td>0.060266</td>\n",
              "      <td>-0.535280</td>\n",
              "      <td>1.437054</td>\n",
              "      <td>0.359662</td>\n",
              "      <td>-0.316275</td>\n",
              "      <td>-0.864259</td>\n",
              "      <td>-0.279881</td>\n",
              "      <td>0.491802</td>\n",
              "      <td>-0.353996</td>\n",
              "      <td>-0.149931</td>\n",
              "      <td>0.129795</td>\n",
              "      <td>794.20</td>\n",
              "      <td>0.0</td>\n",
              "    </tr>\n",
              "    <tr>\n",
              "      <th>13951</th>\n",
              "      <td>24759</td>\n",
              "      <td>-6.053652</td>\n",
              "      <td>-5.988723</td>\n",
              "      <td>0.810413</td>\n",
              "      <td>-0.011811</td>\n",
              "      <td>1.308135</td>\n",
              "      <td>-0.590803</td>\n",
              "      <td>-0.725838</td>\n",
              "      <td>-0.234840</td>\n",
              "      <td>1.624646</td>\n",
              "      <td>0.816619</td>\n",
              "      <td>2.557427</td>\n",
              "      <td>-2.480679</td>\n",
              "      <td>1.757415</td>\n",
              "      <td>0.307835</td>\n",
              "      <td>-0.667360</td>\n",
              "      <td>1.424542</td>\n",
              "      <td>0.717358</td>\n",
              "      <td>-1.323944</td>\n",
              "      <td>-0.091943</td>\n",
              "      <td>-2.982379</td>\n",
              "      <td>-0.771970</td>\n",
              "      <td>1.474668</td>\n",
              "      <td>3.176363</td>\n",
              "      <td>-0.302410</td>\n",
              "      <td>0.052529</td>\n",
              "      <td>-0.373871</td>\n",
              "      <td>-0.700463</td>\n",
              "      <td>2.508443</td>\n",
              "      <td>60.00</td>\n",
              "      <td>0.0</td>\n",
              "    </tr>\n",
              "    <tr>\n",
              "      <th>13952</th>\n",
              "      <td>24759</td>\n",
              "      <td>1.169121</td>\n",
              "      <td>-1.284945</td>\n",
              "      <td>0.032717</td>\n",
              "      <td>-0.681670</td>\n",
              "      <td>0.660598</td>\n",
              "      <td>4.412578</td>\n",
              "      <td>-1.913115</td>\n",
              "      <td>1.076592</td>\n",
              "      <td>1.501230</td>\n",
              "      <td>0.089684</td>\n",
              "      <td>-0.085081</td>\n",
              "      <td>-2.392619</td>\n",
              "      <td>1.877502</td>\n",
              "      <td>0.643433</td>\n",
              "      <td>-1.206728</td>\n",
              "      <td>-1.262256</td>\n",
              "      <td>0.563295</td>\n",
              "      <td>1.845204</td>\n",
              "      <td>-0.471718</td>\n",
              "      <td>-0.265041</td>\n",
              "      <td>-0.557596</td>\n",
              "      <td>-0.882435</td>\n",
              "      <td>-0.041523</td>\n",
              "      <td>0.975445</td>\n",
              "      <td>0.297229</td>\n",
              "      <td>0.550515</td>\n",
              "      <td>0.015029</td>\n",
              "      <td>0.032067</td>\n",
              "      <td>90.00</td>\n",
              "      <td>0.0</td>\n",
              "    </tr>\n",
              "    <tr>\n",
              "      <th>13953</th>\n",
              "      <td>24759</td>\n",
              "      <td>-6.917152</td>\n",
              "      <td>5.854171</td>\n",
              "      <td>-1.652458</td>\n",
              "      <td>-1.488884</td>\n",
              "      <td>-0.833891</td>\n",
              "      <td>-0.344418</td>\n",
              "      <td>0.393789</td>\n",
              "      <td>0.379968</td>\n",
              "      <td>6.133597</td>\n",
              "      <td>8.063261</td>\n",
              "      <td>3.074405</td>\n",
              "      <td>-1.822549</td>\n",
              "      <td>1.637008</td>\n",
              "      <td>-1.010715</td>\n",
              "      <td>0.231682</td>\n",
              "      <td>-0.349489</td>\n",
              "      <td>0.262064</td>\n",
              "      <td>-0.188737</td>\n",
              "      <td>-1.008723</td>\n",
              "      <td>3.469163</td>\n",
              "      <td>-1.404681</td>\n",
              "      <td>-1.124694</td>\n",
              "      <td>0.174333</td>\n",
              "      <td>-0.528234</td>\n",
              "      <td>0.990685</td>\n",
              "      <td>-0.035875</td>\n",
              "      <td>1.071374</td>\n",
              "      <td>-0.168831</td>\n",
              "      <td>NaN</td>\n",
              "      <td>NaN</td>\n",
              "    </tr>\n",
              "  </tbody>\n",
              "</table>\n",
              "</div>"
            ],
            "text/plain": [
              "        Time        V1        V2        V3  ...       V27       V28  Amount  Class\n",
              "13949  24754  1.252924 -0.182189 -0.802716  ... -0.051402  0.005112   23.74    0.0\n",
              "13950  24756 -0.346979 -2.103284 -0.685061  ... -0.149931  0.129795  794.20    0.0\n",
              "13951  24759 -6.053652 -5.988723  0.810413  ... -0.700463  2.508443   60.00    0.0\n",
              "13952  24759  1.169121 -1.284945  0.032717  ...  0.015029  0.032067   90.00    0.0\n",
              "13953  24759 -6.917152  5.854171 -1.652458  ...  1.071374 -0.168831     NaN    NaN\n",
              "\n",
              "[5 rows x 31 columns]"
            ]
          },
          "metadata": {},
          "execution_count": 6
        }
      ]
    },
    {
      "cell_type": "code",
      "metadata": {
        "colab": {
          "base_uri": "https://localhost:8080/"
        },
        "id": "KcCZquvEUD3A",
        "outputId": "3f5f1b9c-5bab-4537-ddb9-e1f8361b2b97"
      },
      "source": [
        "# dataset informations\n",
        "credit_card_data.info()"
      ],
      "execution_count": 7,
      "outputs": [
        {
          "output_type": "stream",
          "name": "stdout",
          "text": [
            "<class 'pandas.core.frame.DataFrame'>\n",
            "RangeIndex: 13954 entries, 0 to 13953\n",
            "Data columns (total 31 columns):\n",
            " #   Column  Non-Null Count  Dtype  \n",
            "---  ------  --------------  -----  \n",
            " 0   Time    13954 non-null  int64  \n",
            " 1   V1      13954 non-null  float64\n",
            " 2   V2      13954 non-null  float64\n",
            " 3   V3      13954 non-null  float64\n",
            " 4   V4      13954 non-null  float64\n",
            " 5   V5      13954 non-null  float64\n",
            " 6   V6      13954 non-null  float64\n",
            " 7   V7      13954 non-null  float64\n",
            " 8   V8      13954 non-null  float64\n",
            " 9   V9      13954 non-null  float64\n",
            " 10  V10     13954 non-null  float64\n",
            " 11  V11     13954 non-null  float64\n",
            " 12  V12     13954 non-null  float64\n",
            " 13  V13     13954 non-null  float64\n",
            " 14  V14     13954 non-null  float64\n",
            " 15  V15     13954 non-null  float64\n",
            " 16  V16     13954 non-null  float64\n",
            " 17  V17     13954 non-null  float64\n",
            " 18  V18     13954 non-null  float64\n",
            " 19  V19     13954 non-null  float64\n",
            " 20  V20     13954 non-null  float64\n",
            " 21  V21     13954 non-null  float64\n",
            " 22  V22     13954 non-null  float64\n",
            " 23  V23     13954 non-null  float64\n",
            " 24  V24     13954 non-null  float64\n",
            " 25  V25     13954 non-null  float64\n",
            " 26  V26     13954 non-null  float64\n",
            " 27  V27     13954 non-null  float64\n",
            " 28  V28     13954 non-null  float64\n",
            " 29  Amount  13953 non-null  float64\n",
            " 30  Class   13953 non-null  float64\n",
            "dtypes: float64(30), int64(1)\n",
            "memory usage: 3.3 MB\n"
          ]
        }
      ]
    },
    {
      "cell_type": "code",
      "metadata": {
        "colab": {
          "base_uri": "https://localhost:8080/"
        },
        "id": "XxwasmfKUQiA",
        "outputId": "8d5a2a02-2a5e-47d7-8304-d05b6c5bfd82"
      },
      "source": [
        "# checking the number of missing values in each column\n",
        "credit_card_data.isnull().sum()"
      ],
      "execution_count": 8,
      "outputs": [
        {
          "output_type": "execute_result",
          "data": {
            "text/plain": [
              "Time      0\n",
              "V1        0\n",
              "V2        0\n",
              "V3        0\n",
              "V4        0\n",
              "V5        0\n",
              "V6        0\n",
              "V7        0\n",
              "V8        0\n",
              "V9        0\n",
              "V10       0\n",
              "V11       0\n",
              "V12       0\n",
              "V13       0\n",
              "V14       0\n",
              "V15       0\n",
              "V16       0\n",
              "V17       0\n",
              "V18       0\n",
              "V19       0\n",
              "V20       0\n",
              "V21       0\n",
              "V22       0\n",
              "V23       0\n",
              "V24       0\n",
              "V25       0\n",
              "V26       0\n",
              "V27       0\n",
              "V28       0\n",
              "Amount    1\n",
              "Class     1\n",
              "dtype: int64"
            ]
          },
          "metadata": {},
          "execution_count": 8
        }
      ]
    },
    {
      "cell_type": "code",
      "metadata": {
        "colab": {
          "base_uri": "https://localhost:8080/"
        },
        "id": "EIpoKfp5Ugri",
        "outputId": "f5005dec-bceb-4cf7-a5d4-a957e13c9d68"
      },
      "source": [
        "# distribution of legit transactions & fraudulent transactions\n",
        "credit_card_data['Class'].value_counts()"
      ],
      "execution_count": 9,
      "outputs": [
        {
          "output_type": "execute_result",
          "data": {
            "text/plain": [
              "0.0    13897\n",
              "1.0       56\n",
              "Name: Class, dtype: int64"
            ]
          },
          "metadata": {},
          "execution_count": 9
        }
      ]
    },
    {
      "cell_type": "markdown",
      "metadata": {
        "id": "flz_InK7VGri"
      },
      "source": [
        "This Dataset is highly unblanced"
      ]
    },
    {
      "cell_type": "markdown",
      "metadata": {
        "id": "4OlMhkHzVKMv"
      },
      "source": [
        "0 --> Normal Transaction\n",
        "\n",
        "1 --> fraudulent transaction"
      ]
    },
    {
      "cell_type": "code",
      "metadata": {
        "id": "QNn77bdbU2Lf"
      },
      "source": [
        "# separating the data for analysis\n",
        "legit = credit_card_data[credit_card_data.Class == 0]\n",
        "fraud = credit_card_data[credit_card_data.Class == 1]"
      ],
      "execution_count": 10,
      "outputs": []
    },
    {
      "cell_type": "code",
      "metadata": {
        "colab": {
          "base_uri": "https://localhost:8080/"
        },
        "id": "zsrMgOdoVnrV",
        "outputId": "83bcc440-a1c9-462a-8a1a-8024fdc400b5"
      },
      "source": [
        "print(legit.shape)\n",
        "print(fraud.shape)"
      ],
      "execution_count": 11,
      "outputs": [
        {
          "output_type": "stream",
          "name": "stdout",
          "text": [
            "(13897, 31)\n",
            "(56, 31)\n"
          ]
        }
      ]
    },
    {
      "cell_type": "code",
      "metadata": {
        "colab": {
          "base_uri": "https://localhost:8080/"
        },
        "id": "1s3KGshBVsTb",
        "outputId": "6cc8e7af-ae1b-4a4e-f4e4-33a6ef4bca8b"
      },
      "source": [
        "# statistical measures of the data\n",
        "legit.Amount.describe()"
      ],
      "execution_count": 12,
      "outputs": [
        {
          "output_type": "execute_result",
          "data": {
            "text/plain": [
              "count    13897.000000\n",
              "mean        63.773909\n",
              "std        177.164503\n",
              "min          0.000000\n",
              "25%          5.770000\n",
              "50%         15.900000\n",
              "75%         52.370000\n",
              "max       7712.430000\n",
              "Name: Amount, dtype: float64"
            ]
          },
          "metadata": {},
          "execution_count": 12
        }
      ]
    },
    {
      "cell_type": "code",
      "metadata": {
        "colab": {
          "base_uri": "https://localhost:8080/"
        },
        "id": "KkU3Mzr5V7fR",
        "outputId": "3318fc27-f73c-4f6e-8ae8-316ace2184c8"
      },
      "source": [
        "fraud.Amount.describe()"
      ],
      "execution_count": 13,
      "outputs": [
        {
          "output_type": "execute_result",
          "data": {
            "text/plain": [
              "count      56.000000\n",
              "mean       90.815893\n",
              "std       310.308450\n",
              "min         0.000000\n",
              "25%         1.000000\n",
              "50%         1.000000\n",
              "75%         1.025000\n",
              "max      1809.680000\n",
              "Name: Amount, dtype: float64"
            ]
          },
          "metadata": {},
          "execution_count": 13
        }
      ]
    },
    {
      "cell_type": "code",
      "metadata": {
        "colab": {
          "base_uri": "https://localhost:8080/",
          "height": 162
        },
        "id": "aFUMMHwYWMvp",
        "outputId": "da0b50ed-3a28-4835-e62c-0146d389c2a8"
      },
      "source": [
        "# compare the values for both transactions\n",
        "credit_card_data.groupby('Class').mean()"
      ],
      "execution_count": 14,
      "outputs": [
        {
          "output_type": "execute_result",
          "data": {
            "text/html": [
              "<div>\n",
              "<style scoped>\n",
              "    .dataframe tbody tr th:only-of-type {\n",
              "        vertical-align: middle;\n",
              "    }\n",
              "\n",
              "    .dataframe tbody tr th {\n",
              "        vertical-align: top;\n",
              "    }\n",
              "\n",
              "    .dataframe thead th {\n",
              "        text-align: right;\n",
              "    }\n",
              "</style>\n",
              "<table border=\"1\" class=\"dataframe\">\n",
              "  <thead>\n",
              "    <tr style=\"text-align: right;\">\n",
              "      <th></th>\n",
              "      <th>Time</th>\n",
              "      <th>V1</th>\n",
              "      <th>V2</th>\n",
              "      <th>V3</th>\n",
              "      <th>V4</th>\n",
              "      <th>V5</th>\n",
              "      <th>V6</th>\n",
              "      <th>V7</th>\n",
              "      <th>V8</th>\n",
              "      <th>V9</th>\n",
              "      <th>V10</th>\n",
              "      <th>V11</th>\n",
              "      <th>V12</th>\n",
              "      <th>V13</th>\n",
              "      <th>V14</th>\n",
              "      <th>V15</th>\n",
              "      <th>V16</th>\n",
              "      <th>V17</th>\n",
              "      <th>V18</th>\n",
              "      <th>V19</th>\n",
              "      <th>V20</th>\n",
              "      <th>V21</th>\n",
              "      <th>V22</th>\n",
              "      <th>V23</th>\n",
              "      <th>V24</th>\n",
              "      <th>V25</th>\n",
              "      <th>V26</th>\n",
              "      <th>V27</th>\n",
              "      <th>V28</th>\n",
              "      <th>Amount</th>\n",
              "    </tr>\n",
              "    <tr>\n",
              "      <th>Class</th>\n",
              "      <th></th>\n",
              "      <th></th>\n",
              "      <th></th>\n",
              "      <th></th>\n",
              "      <th></th>\n",
              "      <th></th>\n",
              "      <th></th>\n",
              "      <th></th>\n",
              "      <th></th>\n",
              "      <th></th>\n",
              "      <th></th>\n",
              "      <th></th>\n",
              "      <th></th>\n",
              "      <th></th>\n",
              "      <th></th>\n",
              "      <th></th>\n",
              "      <th></th>\n",
              "      <th></th>\n",
              "      <th></th>\n",
              "      <th></th>\n",
              "      <th></th>\n",
              "      <th></th>\n",
              "      <th></th>\n",
              "      <th></th>\n",
              "      <th></th>\n",
              "      <th></th>\n",
              "      <th></th>\n",
              "      <th></th>\n",
              "      <th></th>\n",
              "      <th></th>\n",
              "    </tr>\n",
              "  </thead>\n",
              "  <tbody>\n",
              "    <tr>\n",
              "      <th>0.0</th>\n",
              "      <td>10111.481255</td>\n",
              "      <td>-0.217093</td>\n",
              "      <td>0.266252</td>\n",
              "      <td>0.887227</td>\n",
              "      <td>0.276789</td>\n",
              "      <td>-0.107510</td>\n",
              "      <td>0.136745</td>\n",
              "      <td>-0.131462</td>\n",
              "      <td>-0.020385</td>\n",
              "      <td>1.005460</td>\n",
              "      <td>-0.305324</td>\n",
              "      <td>0.841454</td>\n",
              "      <td>-1.524104</td>\n",
              "      <td>1.010368</td>\n",
              "      <td>0.886982</td>\n",
              "      <td>-0.190759</td>\n",
              "      <td>-0.019670</td>\n",
              "      <td>0.452113</td>\n",
              "      <td>0.011239</td>\n",
              "      <td>-0.087578</td>\n",
              "      <td>0.020758</td>\n",
              "      <td>-0.068686</td>\n",
              "      <td>-0.158230</td>\n",
              "      <td>-0.034834</td>\n",
              "      <td>0.013065</td>\n",
              "      <td>0.117928</td>\n",
              "      <td>0.034349</td>\n",
              "      <td>0.009565</td>\n",
              "      <td>0.002329</td>\n",
              "      <td>63.773909</td>\n",
              "    </tr>\n",
              "    <tr>\n",
              "      <th>1.0</th>\n",
              "      <td>12262.107143</td>\n",
              "      <td>-4.727948</td>\n",
              "      <td>4.660436</td>\n",
              "      <td>-9.328536</td>\n",
              "      <td>6.783464</td>\n",
              "      <td>-2.890388</td>\n",
              "      <td>-2.030360</td>\n",
              "      <td>-6.578337</td>\n",
              "      <td>1.028374</td>\n",
              "      <td>-2.981468</td>\n",
              "      <td>-7.502753</td>\n",
              "      <td>6.879584</td>\n",
              "      <td>-10.591544</td>\n",
              "      <td>0.548941</td>\n",
              "      <td>-9.973580</td>\n",
              "      <td>-0.256254</td>\n",
              "      <td>-5.225182</td>\n",
              "      <td>-7.478164</td>\n",
              "      <td>-2.516508</td>\n",
              "      <td>0.272975</td>\n",
              "      <td>0.453283</td>\n",
              "      <td>0.116896</td>\n",
              "      <td>0.048132</td>\n",
              "      <td>-0.225526</td>\n",
              "      <td>-0.452514</td>\n",
              "      <td>-0.124184</td>\n",
              "      <td>0.333325</td>\n",
              "      <td>0.793484</td>\n",
              "      <td>-0.046177</td>\n",
              "      <td>90.815893</td>\n",
              "    </tr>\n",
              "  </tbody>\n",
              "</table>\n",
              "</div>"
            ],
            "text/plain": [
              "               Time        V1        V2  ...       V27       V28     Amount\n",
              "Class                                    ...                               \n",
              "0.0    10111.481255 -0.217093  0.266252  ...  0.009565  0.002329  63.773909\n",
              "1.0    12262.107143 -4.727948  4.660436  ...  0.793484 -0.046177  90.815893\n",
              "\n",
              "[2 rows x 30 columns]"
            ]
          },
          "metadata": {},
          "execution_count": 14
        }
      ]
    },
    {
      "cell_type": "markdown",
      "metadata": {
        "id": "ybHNYPpEW0N6"
      },
      "source": [
        "Under-Sampling"
      ]
    },
    {
      "cell_type": "markdown",
      "metadata": {
        "id": "MlXkIGEIW3KM"
      },
      "source": [
        "Build a sample dataset containing similar distribution of normal transactions and Fraudulent Transactions"
      ]
    },
    {
      "cell_type": "markdown",
      "metadata": {
        "id": "bCj3Dee7XB0F"
      },
      "source": [
        "Number of Fraudulent Transactions --> 492"
      ]
    },
    {
      "cell_type": "code",
      "metadata": {
        "id": "QtWT13mKWjJ_"
      },
      "source": [
        "legit_sample = legit.sample(n=492)"
      ],
      "execution_count": 15,
      "outputs": []
    },
    {
      "cell_type": "markdown",
      "metadata": {
        "id": "SNiYI_SmXeim"
      },
      "source": [
        "Concatenating two DataFrames"
      ]
    },
    {
      "cell_type": "code",
      "metadata": {
        "id": "0yiXrYiRXcnE"
      },
      "source": [
        "new_dataset = pd.concat([legit_sample, fraud], axis=0)"
      ],
      "execution_count": 16,
      "outputs": []
    },
    {
      "cell_type": "code",
      "metadata": {
        "colab": {
          "base_uri": "https://localhost:8080/",
          "height": 224
        },
        "id": "UuLw43AXX0bq",
        "outputId": "253acc6e-5178-42b4-87e0-9cf27e7aad3c"
      },
      "source": [
        "new_dataset.head()"
      ],
      "execution_count": 17,
      "outputs": [
        {
          "output_type": "execute_result",
          "data": {
            "text/html": [
              "<div>\n",
              "<style scoped>\n",
              "    .dataframe tbody tr th:only-of-type {\n",
              "        vertical-align: middle;\n",
              "    }\n",
              "\n",
              "    .dataframe tbody tr th {\n",
              "        vertical-align: top;\n",
              "    }\n",
              "\n",
              "    .dataframe thead th {\n",
              "        text-align: right;\n",
              "    }\n",
              "</style>\n",
              "<table border=\"1\" class=\"dataframe\">\n",
              "  <thead>\n",
              "    <tr style=\"text-align: right;\">\n",
              "      <th></th>\n",
              "      <th>Time</th>\n",
              "      <th>V1</th>\n",
              "      <th>V2</th>\n",
              "      <th>V3</th>\n",
              "      <th>V4</th>\n",
              "      <th>V5</th>\n",
              "      <th>V6</th>\n",
              "      <th>V7</th>\n",
              "      <th>V8</th>\n",
              "      <th>V9</th>\n",
              "      <th>V10</th>\n",
              "      <th>V11</th>\n",
              "      <th>V12</th>\n",
              "      <th>V13</th>\n",
              "      <th>V14</th>\n",
              "      <th>V15</th>\n",
              "      <th>V16</th>\n",
              "      <th>V17</th>\n",
              "      <th>V18</th>\n",
              "      <th>V19</th>\n",
              "      <th>V20</th>\n",
              "      <th>V21</th>\n",
              "      <th>V22</th>\n",
              "      <th>V23</th>\n",
              "      <th>V24</th>\n",
              "      <th>V25</th>\n",
              "      <th>V26</th>\n",
              "      <th>V27</th>\n",
              "      <th>V28</th>\n",
              "      <th>Amount</th>\n",
              "      <th>Class</th>\n",
              "    </tr>\n",
              "  </thead>\n",
              "  <tbody>\n",
              "    <tr>\n",
              "      <th>7828</th>\n",
              "      <td>10911</td>\n",
              "      <td>1.159685</td>\n",
              "      <td>0.379515</td>\n",
              "      <td>1.328155</td>\n",
              "      <td>2.721188</td>\n",
              "      <td>-0.237186</td>\n",
              "      <td>0.701321</td>\n",
              "      <td>-0.573907</td>\n",
              "      <td>0.071107</td>\n",
              "      <td>1.287667</td>\n",
              "      <td>0.085635</td>\n",
              "      <td>-0.571653</td>\n",
              "      <td>-2.040925</td>\n",
              "      <td>2.908763</td>\n",
              "      <td>0.758327</td>\n",
              "      <td>-1.096782</td>\n",
              "      <td>0.786729</td>\n",
              "      <td>-0.048398</td>\n",
              "      <td>0.216106</td>\n",
              "      <td>-0.741817</td>\n",
              "      <td>-0.080468</td>\n",
              "      <td>-0.270493</td>\n",
              "      <td>-0.353322</td>\n",
              "      <td>-0.072757</td>\n",
              "      <td>-0.496933</td>\n",
              "      <td>0.417240</td>\n",
              "      <td>-0.034843</td>\n",
              "      <td>0.019410</td>\n",
              "      <td>0.025652</td>\n",
              "      <td>15.13</td>\n",
              "      <td>0.0</td>\n",
              "    </tr>\n",
              "    <tr>\n",
              "      <th>5925</th>\n",
              "      <td>6536</td>\n",
              "      <td>1.256892</td>\n",
              "      <td>0.081798</td>\n",
              "      <td>-1.025909</td>\n",
              "      <td>0.472521</td>\n",
              "      <td>2.256109</td>\n",
              "      <td>3.655650</td>\n",
              "      <td>-0.525351</td>\n",
              "      <td>0.767338</td>\n",
              "      <td>1.456839</td>\n",
              "      <td>-0.391134</td>\n",
              "      <td>0.405291</td>\n",
              "      <td>-2.270592</td>\n",
              "      <td>1.417871</td>\n",
              "      <td>1.627247</td>\n",
              "      <td>-0.888000</td>\n",
              "      <td>-0.129903</td>\n",
              "      <td>0.221628</td>\n",
              "      <td>0.198061</td>\n",
              "      <td>0.158779</td>\n",
              "      <td>-0.072050</td>\n",
              "      <td>-0.330960</td>\n",
              "      <td>-0.669644</td>\n",
              "      <td>-0.119163</td>\n",
              "      <td>0.949102</td>\n",
              "      <td>0.868282</td>\n",
              "      <td>-0.365751</td>\n",
              "      <td>-0.002321</td>\n",
              "      <td>0.006899</td>\n",
              "      <td>13.31</td>\n",
              "      <td>0.0</td>\n",
              "    </tr>\n",
              "    <tr>\n",
              "      <th>13564</th>\n",
              "      <td>24050</td>\n",
              "      <td>0.783460</td>\n",
              "      <td>-0.766538</td>\n",
              "      <td>1.331255</td>\n",
              "      <td>1.812482</td>\n",
              "      <td>-0.929991</td>\n",
              "      <td>1.318111</td>\n",
              "      <td>-0.979965</td>\n",
              "      <td>0.472786</td>\n",
              "      <td>2.619051</td>\n",
              "      <td>-0.585481</td>\n",
              "      <td>1.053027</td>\n",
              "      <td>-1.765809</td>\n",
              "      <td>0.328310</td>\n",
              "      <td>1.034281</td>\n",
              "      <td>-2.276501</td>\n",
              "      <td>-0.441464</td>\n",
              "      <td>0.922500</td>\n",
              "      <td>0.463104</td>\n",
              "      <td>-0.140250</td>\n",
              "      <td>-0.002170</td>\n",
              "      <td>0.027365</td>\n",
              "      <td>0.410787</td>\n",
              "      <td>-0.294227</td>\n",
              "      <td>-0.325263</td>\n",
              "      <td>0.518533</td>\n",
              "      <td>-0.140764</td>\n",
              "      <td>0.042981</td>\n",
              "      <td>0.031839</td>\n",
              "      <td>150.00</td>\n",
              "      <td>0.0</td>\n",
              "    </tr>\n",
              "    <tr>\n",
              "      <th>9387</th>\n",
              "      <td>13746</td>\n",
              "      <td>1.109824</td>\n",
              "      <td>0.331352</td>\n",
              "      <td>1.560526</td>\n",
              "      <td>2.719556</td>\n",
              "      <td>-0.483555</td>\n",
              "      <td>0.712093</td>\n",
              "      <td>-0.741679</td>\n",
              "      <td>0.236268</td>\n",
              "      <td>1.119022</td>\n",
              "      <td>0.284834</td>\n",
              "      <td>1.439179</td>\n",
              "      <td>-1.621293</td>\n",
              "      <td>1.914701</td>\n",
              "      <td>1.144633</td>\n",
              "      <td>-1.746317</td>\n",
              "      <td>0.872180</td>\n",
              "      <td>-0.069157</td>\n",
              "      <td>0.643919</td>\n",
              "      <td>-0.632373</td>\n",
              "      <td>-0.168994</td>\n",
              "      <td>-0.204147</td>\n",
              "      <td>-0.206828</td>\n",
              "      <td>0.000416</td>\n",
              "      <td>-0.067350</td>\n",
              "      <td>0.297569</td>\n",
              "      <td>-0.079282</td>\n",
              "      <td>0.013765</td>\n",
              "      <td>0.016206</td>\n",
              "      <td>0.00</td>\n",
              "      <td>0.0</td>\n",
              "    </tr>\n",
              "    <tr>\n",
              "      <th>6724</th>\n",
              "      <td>8422</td>\n",
              "      <td>-0.376838</td>\n",
              "      <td>0.016885</td>\n",
              "      <td>0.655841</td>\n",
              "      <td>-1.836602</td>\n",
              "      <td>1.759263</td>\n",
              "      <td>3.750919</td>\n",
              "      <td>-0.745762</td>\n",
              "      <td>0.924635</td>\n",
              "      <td>2.161373</td>\n",
              "      <td>-1.608607</td>\n",
              "      <td>0.670609</td>\n",
              "      <td>-2.297596</td>\n",
              "      <td>1.645953</td>\n",
              "      <td>1.330924</td>\n",
              "      <td>1.006922</td>\n",
              "      <td>-1.219415</td>\n",
              "      <td>1.040264</td>\n",
              "      <td>1.081003</td>\n",
              "      <td>2.895506</td>\n",
              "      <td>0.358582</td>\n",
              "      <td>-0.044866</td>\n",
              "      <td>0.264017</td>\n",
              "      <td>-0.385609</td>\n",
              "      <td>1.047777</td>\n",
              "      <td>0.471739</td>\n",
              "      <td>0.417827</td>\n",
              "      <td>0.091471</td>\n",
              "      <td>0.071030</td>\n",
              "      <td>16.39</td>\n",
              "      <td>0.0</td>\n",
              "    </tr>\n",
              "  </tbody>\n",
              "</table>\n",
              "</div>"
            ],
            "text/plain": [
              "        Time        V1        V2        V3  ...       V27       V28  Amount  Class\n",
              "7828   10911  1.159685  0.379515  1.328155  ...  0.019410  0.025652   15.13    0.0\n",
              "5925    6536  1.256892  0.081798 -1.025909  ... -0.002321  0.006899   13.31    0.0\n",
              "13564  24050  0.783460 -0.766538  1.331255  ...  0.042981  0.031839  150.00    0.0\n",
              "9387   13746  1.109824  0.331352  1.560526  ...  0.013765  0.016206    0.00    0.0\n",
              "6724    8422 -0.376838  0.016885  0.655841  ...  0.091471  0.071030   16.39    0.0\n",
              "\n",
              "[5 rows x 31 columns]"
            ]
          },
          "metadata": {},
          "execution_count": 17
        }
      ]
    },
    {
      "cell_type": "code",
      "metadata": {
        "colab": {
          "base_uri": "https://localhost:8080/",
          "height": 224
        },
        "id": "n_Rjt1qDX3AQ",
        "outputId": "6f22b88f-777d-477a-c998-cc5cb43155c2"
      },
      "source": [
        "new_dataset.tail()"
      ],
      "execution_count": 18,
      "outputs": [
        {
          "output_type": "execute_result",
          "data": {
            "text/html": [
              "<div>\n",
              "<style scoped>\n",
              "    .dataframe tbody tr th:only-of-type {\n",
              "        vertical-align: middle;\n",
              "    }\n",
              "\n",
              "    .dataframe tbody tr th {\n",
              "        vertical-align: top;\n",
              "    }\n",
              "\n",
              "    .dataframe thead th {\n",
              "        text-align: right;\n",
              "    }\n",
              "</style>\n",
              "<table border=\"1\" class=\"dataframe\">\n",
              "  <thead>\n",
              "    <tr style=\"text-align: right;\">\n",
              "      <th></th>\n",
              "      <th>Time</th>\n",
              "      <th>V1</th>\n",
              "      <th>V2</th>\n",
              "      <th>V3</th>\n",
              "      <th>V4</th>\n",
              "      <th>V5</th>\n",
              "      <th>V6</th>\n",
              "      <th>V7</th>\n",
              "      <th>V8</th>\n",
              "      <th>V9</th>\n",
              "      <th>V10</th>\n",
              "      <th>V11</th>\n",
              "      <th>V12</th>\n",
              "      <th>V13</th>\n",
              "      <th>V14</th>\n",
              "      <th>V15</th>\n",
              "      <th>V16</th>\n",
              "      <th>V17</th>\n",
              "      <th>V18</th>\n",
              "      <th>V19</th>\n",
              "      <th>V20</th>\n",
              "      <th>V21</th>\n",
              "      <th>V22</th>\n",
              "      <th>V23</th>\n",
              "      <th>V24</th>\n",
              "      <th>V25</th>\n",
              "      <th>V26</th>\n",
              "      <th>V27</th>\n",
              "      <th>V28</th>\n",
              "      <th>Amount</th>\n",
              "      <th>Class</th>\n",
              "    </tr>\n",
              "  </thead>\n",
              "  <tbody>\n",
              "    <tr>\n",
              "      <th>11880</th>\n",
              "      <td>20451</td>\n",
              "      <td>-15.819179</td>\n",
              "      <td>8.775997</td>\n",
              "      <td>-22.804686</td>\n",
              "      <td>11.864868</td>\n",
              "      <td>-9.092361</td>\n",
              "      <td>-2.386893</td>\n",
              "      <td>-16.560368</td>\n",
              "      <td>0.948349</td>\n",
              "      <td>-6.310658</td>\n",
              "      <td>-13.088891</td>\n",
              "      <td>9.815703</td>\n",
              "      <td>-14.056061</td>\n",
              "      <td>0.777192</td>\n",
              "      <td>-13.761018</td>\n",
              "      <td>-0.353636</td>\n",
              "      <td>-7.957447</td>\n",
              "      <td>-11.962954</td>\n",
              "      <td>-4.780508</td>\n",
              "      <td>0.652498</td>\n",
              "      <td>0.992279</td>\n",
              "      <td>-2.350634</td>\n",
              "      <td>1.036362</td>\n",
              "      <td>1.136051</td>\n",
              "      <td>-1.043414</td>\n",
              "      <td>-0.108923</td>\n",
              "      <td>0.657437</td>\n",
              "      <td>2.136424</td>\n",
              "      <td>-1.411945</td>\n",
              "      <td>1.0</td>\n",
              "      <td>1.0</td>\n",
              "    </tr>\n",
              "    <tr>\n",
              "      <th>12070</th>\n",
              "      <td>20931</td>\n",
              "      <td>-16.367923</td>\n",
              "      <td>9.223692</td>\n",
              "      <td>-23.270631</td>\n",
              "      <td>11.844777</td>\n",
              "      <td>-9.462037</td>\n",
              "      <td>-2.450444</td>\n",
              "      <td>-16.925152</td>\n",
              "      <td>1.384208</td>\n",
              "      <td>-6.287736</td>\n",
              "      <td>-13.002709</td>\n",
              "      <td>9.691461</td>\n",
              "      <td>-13.886595</td>\n",
              "      <td>0.838361</td>\n",
              "      <td>-13.517072</td>\n",
              "      <td>-0.377911</td>\n",
              "      <td>-7.855681</td>\n",
              "      <td>-11.803815</td>\n",
              "      <td>-4.761026</td>\n",
              "      <td>0.618624</td>\n",
              "      <td>0.993585</td>\n",
              "      <td>-2.343674</td>\n",
              "      <td>1.004602</td>\n",
              "      <td>1.188212</td>\n",
              "      <td>-1.047184</td>\n",
              "      <td>-0.035573</td>\n",
              "      <td>0.664900</td>\n",
              "      <td>2.122796</td>\n",
              "      <td>-1.416741</td>\n",
              "      <td>1.0</td>\n",
              "      <td>1.0</td>\n",
              "    </tr>\n",
              "    <tr>\n",
              "      <th>12108</th>\n",
              "      <td>21046</td>\n",
              "      <td>-16.917468</td>\n",
              "      <td>9.669900</td>\n",
              "      <td>-23.736443</td>\n",
              "      <td>11.824990</td>\n",
              "      <td>-9.830548</td>\n",
              "      <td>-2.514829</td>\n",
              "      <td>-17.290657</td>\n",
              "      <td>1.820408</td>\n",
              "      <td>-6.264903</td>\n",
              "      <td>-12.916636</td>\n",
              "      <td>9.567110</td>\n",
              "      <td>-13.717067</td>\n",
              "      <td>0.899541</td>\n",
              "      <td>-13.272965</td>\n",
              "      <td>-0.402260</td>\n",
              "      <td>-7.754094</td>\n",
              "      <td>-11.644603</td>\n",
              "      <td>-4.741303</td>\n",
              "      <td>0.584626</td>\n",
              "      <td>0.996745</td>\n",
              "      <td>-2.336111</td>\n",
              "      <td>0.972755</td>\n",
              "      <td>1.241866</td>\n",
              "      <td>-1.051086</td>\n",
              "      <td>0.038009</td>\n",
              "      <td>0.672317</td>\n",
              "      <td>2.108471</td>\n",
              "      <td>-1.421243</td>\n",
              "      <td>1.0</td>\n",
              "      <td>1.0</td>\n",
              "    </tr>\n",
              "    <tr>\n",
              "      <th>12261</th>\n",
              "      <td>21419</td>\n",
              "      <td>-17.467710</td>\n",
              "      <td>10.114816</td>\n",
              "      <td>-24.202142</td>\n",
              "      <td>11.805469</td>\n",
              "      <td>-10.198046</td>\n",
              "      <td>-2.579938</td>\n",
              "      <td>-17.656788</td>\n",
              "      <td>2.256902</td>\n",
              "      <td>-6.242149</td>\n",
              "      <td>-12.830657</td>\n",
              "      <td>9.442665</td>\n",
              "      <td>-13.547486</td>\n",
              "      <td>0.960729</td>\n",
              "      <td>-13.028717</td>\n",
              "      <td>-0.426674</td>\n",
              "      <td>-7.652662</td>\n",
              "      <td>-11.485328</td>\n",
              "      <td>-4.721370</td>\n",
              "      <td>0.550519</td>\n",
              "      <td>1.001519</td>\n",
              "      <td>-2.328024</td>\n",
              "      <td>0.940830</td>\n",
              "      <td>1.296817</td>\n",
              "      <td>-1.055104</td>\n",
              "      <td>0.111792</td>\n",
              "      <td>0.679695</td>\n",
              "      <td>2.093541</td>\n",
              "      <td>-1.425491</td>\n",
              "      <td>1.0</td>\n",
              "      <td>1.0</td>\n",
              "    </tr>\n",
              "    <tr>\n",
              "      <th>12369</th>\n",
              "      <td>21662</td>\n",
              "      <td>-18.018561</td>\n",
              "      <td>10.558600</td>\n",
              "      <td>-24.667741</td>\n",
              "      <td>11.786180</td>\n",
              "      <td>-10.564657</td>\n",
              "      <td>-2.645681</td>\n",
              "      <td>-18.023468</td>\n",
              "      <td>2.693655</td>\n",
              "      <td>-6.219464</td>\n",
              "      <td>-12.744761</td>\n",
              "      <td>9.318138</td>\n",
              "      <td>-13.377857</td>\n",
              "      <td>1.021924</td>\n",
              "      <td>-12.784346</td>\n",
              "      <td>-0.451146</td>\n",
              "      <td>-7.551365</td>\n",
              "      <td>-11.325997</td>\n",
              "      <td>-4.701253</td>\n",
              "      <td>0.516317</td>\n",
              "      <td>1.007703</td>\n",
              "      <td>-2.319479</td>\n",
              "      <td>0.908839</td>\n",
              "      <td>1.352904</td>\n",
              "      <td>-1.059222</td>\n",
              "      <td>0.185751</td>\n",
              "      <td>0.687037</td>\n",
              "      <td>2.078081</td>\n",
              "      <td>-1.429517</td>\n",
              "      <td>1.0</td>\n",
              "      <td>1.0</td>\n",
              "    </tr>\n",
              "  </tbody>\n",
              "</table>\n",
              "</div>"
            ],
            "text/plain": [
              "        Time         V1         V2  ...       V28  Amount  Class\n",
              "11880  20451 -15.819179   8.775997  ... -1.411945     1.0    1.0\n",
              "12070  20931 -16.367923   9.223692  ... -1.416741     1.0    1.0\n",
              "12108  21046 -16.917468   9.669900  ... -1.421243     1.0    1.0\n",
              "12261  21419 -17.467710  10.114816  ... -1.425491     1.0    1.0\n",
              "12369  21662 -18.018561  10.558600  ... -1.429517     1.0    1.0\n",
              "\n",
              "[5 rows x 31 columns]"
            ]
          },
          "metadata": {},
          "execution_count": 18
        }
      ]
    },
    {
      "cell_type": "code",
      "metadata": {
        "colab": {
          "base_uri": "https://localhost:8080/"
        },
        "id": "bFsRcj0gX-3M",
        "outputId": "2d63d379-db31-4859-d226-f0352d46c2d1"
      },
      "source": [
        "new_dataset['Class'].value_counts()"
      ],
      "execution_count": 19,
      "outputs": [
        {
          "output_type": "execute_result",
          "data": {
            "text/plain": [
              "0.0    492\n",
              "1.0     56\n",
              "Name: Class, dtype: int64"
            ]
          },
          "metadata": {},
          "execution_count": 19
        }
      ]
    },
    {
      "cell_type": "code",
      "metadata": {
        "colab": {
          "base_uri": "https://localhost:8080/",
          "height": 162
        },
        "id": "jan1xMeWYLrM",
        "outputId": "81c9a0b1-a127-4b5e-8a6d-42aa9a50d3a0"
      },
      "source": [
        "new_dataset.groupby('Class').mean()"
      ],
      "execution_count": 20,
      "outputs": [
        {
          "output_type": "execute_result",
          "data": {
            "text/html": [
              "<div>\n",
              "<style scoped>\n",
              "    .dataframe tbody tr th:only-of-type {\n",
              "        vertical-align: middle;\n",
              "    }\n",
              "\n",
              "    .dataframe tbody tr th {\n",
              "        vertical-align: top;\n",
              "    }\n",
              "\n",
              "    .dataframe thead th {\n",
              "        text-align: right;\n",
              "    }\n",
              "</style>\n",
              "<table border=\"1\" class=\"dataframe\">\n",
              "  <thead>\n",
              "    <tr style=\"text-align: right;\">\n",
              "      <th></th>\n",
              "      <th>Time</th>\n",
              "      <th>V1</th>\n",
              "      <th>V2</th>\n",
              "      <th>V3</th>\n",
              "      <th>V4</th>\n",
              "      <th>V5</th>\n",
              "      <th>V6</th>\n",
              "      <th>V7</th>\n",
              "      <th>V8</th>\n",
              "      <th>V9</th>\n",
              "      <th>V10</th>\n",
              "      <th>V11</th>\n",
              "      <th>V12</th>\n",
              "      <th>V13</th>\n",
              "      <th>V14</th>\n",
              "      <th>V15</th>\n",
              "      <th>V16</th>\n",
              "      <th>V17</th>\n",
              "      <th>V18</th>\n",
              "      <th>V19</th>\n",
              "      <th>V20</th>\n",
              "      <th>V21</th>\n",
              "      <th>V22</th>\n",
              "      <th>V23</th>\n",
              "      <th>V24</th>\n",
              "      <th>V25</th>\n",
              "      <th>V26</th>\n",
              "      <th>V27</th>\n",
              "      <th>V28</th>\n",
              "      <th>Amount</th>\n",
              "    </tr>\n",
              "    <tr>\n",
              "      <th>Class</th>\n",
              "      <th></th>\n",
              "      <th></th>\n",
              "      <th></th>\n",
              "      <th></th>\n",
              "      <th></th>\n",
              "      <th></th>\n",
              "      <th></th>\n",
              "      <th></th>\n",
              "      <th></th>\n",
              "      <th></th>\n",
              "      <th></th>\n",
              "      <th></th>\n",
              "      <th></th>\n",
              "      <th></th>\n",
              "      <th></th>\n",
              "      <th></th>\n",
              "      <th></th>\n",
              "      <th></th>\n",
              "      <th></th>\n",
              "      <th></th>\n",
              "      <th></th>\n",
              "      <th></th>\n",
              "      <th></th>\n",
              "      <th></th>\n",
              "      <th></th>\n",
              "      <th></th>\n",
              "      <th></th>\n",
              "      <th></th>\n",
              "      <th></th>\n",
              "      <th></th>\n",
              "    </tr>\n",
              "  </thead>\n",
              "  <tbody>\n",
              "    <tr>\n",
              "      <th>0.0</th>\n",
              "      <td>9788.985772</td>\n",
              "      <td>-0.377416</td>\n",
              "      <td>0.325662</td>\n",
              "      <td>0.864429</td>\n",
              "      <td>0.356943</td>\n",
              "      <td>-0.172082</td>\n",
              "      <td>0.048242</td>\n",
              "      <td>-0.165113</td>\n",
              "      <td>0.050722</td>\n",
              "      <td>0.923762</td>\n",
              "      <td>-0.323371</td>\n",
              "      <td>0.786941</td>\n",
              "      <td>-1.490900</td>\n",
              "      <td>0.938619</td>\n",
              "      <td>0.696022</td>\n",
              "      <td>-0.256872</td>\n",
              "      <td>-0.084986</td>\n",
              "      <td>0.438009</td>\n",
              "      <td>-0.063294</td>\n",
              "      <td>-0.109386</td>\n",
              "      <td>0.033426</td>\n",
              "      <td>-0.051329</td>\n",
              "      <td>-0.105621</td>\n",
              "      <td>-0.058642</td>\n",
              "      <td>-0.015624</td>\n",
              "      <td>0.096805</td>\n",
              "      <td>0.066459</td>\n",
              "      <td>0.038659</td>\n",
              "      <td>0.010651</td>\n",
              "      <td>66.114736</td>\n",
              "    </tr>\n",
              "    <tr>\n",
              "      <th>1.0</th>\n",
              "      <td>12262.107143</td>\n",
              "      <td>-4.727948</td>\n",
              "      <td>4.660436</td>\n",
              "      <td>-9.328536</td>\n",
              "      <td>6.783464</td>\n",
              "      <td>-2.890388</td>\n",
              "      <td>-2.030360</td>\n",
              "      <td>-6.578337</td>\n",
              "      <td>1.028374</td>\n",
              "      <td>-2.981468</td>\n",
              "      <td>-7.502753</td>\n",
              "      <td>6.879584</td>\n",
              "      <td>-10.591544</td>\n",
              "      <td>0.548941</td>\n",
              "      <td>-9.973580</td>\n",
              "      <td>-0.256254</td>\n",
              "      <td>-5.225182</td>\n",
              "      <td>-7.478164</td>\n",
              "      <td>-2.516508</td>\n",
              "      <td>0.272975</td>\n",
              "      <td>0.453283</td>\n",
              "      <td>0.116896</td>\n",
              "      <td>0.048132</td>\n",
              "      <td>-0.225526</td>\n",
              "      <td>-0.452514</td>\n",
              "      <td>-0.124184</td>\n",
              "      <td>0.333325</td>\n",
              "      <td>0.793484</td>\n",
              "      <td>-0.046177</td>\n",
              "      <td>90.815893</td>\n",
              "    </tr>\n",
              "  </tbody>\n",
              "</table>\n",
              "</div>"
            ],
            "text/plain": [
              "               Time        V1        V2  ...       V27       V28     Amount\n",
              "Class                                    ...                               \n",
              "0.0     9788.985772 -0.377416  0.325662  ...  0.038659  0.010651  66.114736\n",
              "1.0    12262.107143 -4.727948  4.660436  ...  0.793484 -0.046177  90.815893\n",
              "\n",
              "[2 rows x 30 columns]"
            ]
          },
          "metadata": {},
          "execution_count": 20
        }
      ]
    },
    {
      "cell_type": "markdown",
      "metadata": {
        "id": "wbe0g12oYhyK"
      },
      "source": [
        "Splitting the data into Features & Targets"
      ]
    },
    {
      "cell_type": "code",
      "metadata": {
        "id": "oiC0OOyUYUoD"
      },
      "source": [
        "X = new_dataset.drop(columns='Class', axis=1)\n",
        "Y = new_dataset['Class']"
      ],
      "execution_count": 21,
      "outputs": []
    },
    {
      "cell_type": "code",
      "metadata": {
        "colab": {
          "base_uri": "https://localhost:8080/"
        },
        "id": "9u7wbWqzYyrI",
        "outputId": "40d32885-d284-40ec-bc74-546277282845"
      },
      "source": [
        "print(X)"
      ],
      "execution_count": 22,
      "outputs": [
        {
          "output_type": "stream",
          "name": "stdout",
          "text": [
            "        Time         V1         V2  ...       V27       V28  Amount\n",
            "7828   10911   1.159685   0.379515  ...  0.019410  0.025652   15.13\n",
            "5925    6536   1.256892   0.081798  ... -0.002321  0.006899   13.31\n",
            "13564  24050   0.783460  -0.766538  ...  0.042981  0.031839  150.00\n",
            "9387   13746   1.109824   0.331352  ...  0.013765  0.016206    0.00\n",
            "6724    8422  -0.376838   0.016885  ...  0.091471  0.071030   16.39\n",
            "...      ...        ...        ...  ...       ...       ...     ...\n",
            "11880  20451 -15.819179   8.775997  ...  2.136424 -1.411945    1.00\n",
            "12070  20931 -16.367923   9.223692  ...  2.122796 -1.416741    1.00\n",
            "12108  21046 -16.917468   9.669900  ...  2.108471 -1.421243    1.00\n",
            "12261  21419 -17.467710  10.114816  ...  2.093541 -1.425491    1.00\n",
            "12369  21662 -18.018561  10.558600  ...  2.078081 -1.429517    1.00\n",
            "\n",
            "[548 rows x 30 columns]\n"
          ]
        }
      ]
    },
    {
      "cell_type": "code",
      "metadata": {
        "colab": {
          "base_uri": "https://localhost:8080/"
        },
        "id": "EHnRPzZvYz-F",
        "outputId": "86b0d43d-6028-4dcc-e2c5-3333c4c42bce"
      },
      "source": [
        "print(Y)"
      ],
      "execution_count": 23,
      "outputs": [
        {
          "output_type": "stream",
          "name": "stdout",
          "text": [
            "7828     0.0\n",
            "5925     0.0\n",
            "13564    0.0\n",
            "9387     0.0\n",
            "6724     0.0\n",
            "        ... \n",
            "11880    1.0\n",
            "12070    1.0\n",
            "12108    1.0\n",
            "12261    1.0\n",
            "12369    1.0\n",
            "Name: Class, Length: 548, dtype: float64\n"
          ]
        }
      ]
    },
    {
      "cell_type": "markdown",
      "metadata": {
        "id": "78wEbV41Y6j3"
      },
      "source": [
        "Split the data into Training data & Testing Data"
      ]
    },
    {
      "cell_type": "code",
      "metadata": {
        "id": "FrsqqwT0Y3n5"
      },
      "source": [
        "X_train, X_test, Y_train, Y_test = train_test_split(X, Y, test_size=0.2, stratify=Y, random_state=2)"
      ],
      "execution_count": 24,
      "outputs": []
    },
    {
      "cell_type": "code",
      "metadata": {
        "colab": {
          "base_uri": "https://localhost:8080/"
        },
        "id": "FUmwXz99ZuvK",
        "outputId": "3e12ff37-56f4-4d36-841e-28a667a94cad"
      },
      "source": [
        "print(X.shape, X_train.shape, X_test.shape)"
      ],
      "execution_count": 25,
      "outputs": [
        {
          "output_type": "stream",
          "name": "stdout",
          "text": [
            "(548, 30) (438, 30) (110, 30)\n"
          ]
        }
      ]
    },
    {
      "cell_type": "markdown",
      "metadata": {
        "id": "aowgjqbeZ7d1"
      },
      "source": [
        "Model Training"
      ]
    },
    {
      "cell_type": "markdown",
      "metadata": {
        "id": "i0NkjaxyZ96E"
      },
      "source": [
        "Logistic Regression"
      ]
    },
    {
      "cell_type": "code",
      "metadata": {
        "id": "i0HHd1v8Z2Mq"
      },
      "source": [
        "model = LogisticRegression()"
      ],
      "execution_count": 26,
      "outputs": []
    },
    {
      "cell_type": "code",
      "metadata": {
        "colab": {
          "base_uri": "https://localhost:8080/"
        },
        "id": "_rshSouvaGrv",
        "outputId": "9e7f887a-2f34-4f9f-e697-34ef0c6b55f0"
      },
      "source": [
        "# training the Logistic Regression Model with Training Data\n",
        "model.fit(X_train, Y_train)"
      ],
      "execution_count": 27,
      "outputs": [
        {
          "output_type": "stream",
          "name": "stderr",
          "text": [
            "/usr/local/lib/python3.7/dist-packages/sklearn/linear_model/_logistic.py:940: ConvergenceWarning: lbfgs failed to converge (status=1):\n",
            "STOP: TOTAL NO. of ITERATIONS REACHED LIMIT.\n",
            "\n",
            "Increase the number of iterations (max_iter) or scale the data as shown in:\n",
            "    https://scikit-learn.org/stable/modules/preprocessing.html\n",
            "Please also refer to the documentation for alternative solver options:\n",
            "    https://scikit-learn.org/stable/modules/linear_model.html#logistic-regression\n",
            "  extra_warning_msg=_LOGISTIC_SOLVER_CONVERGENCE_MSG)\n"
          ]
        },
        {
          "output_type": "execute_result",
          "data": {
            "text/plain": [
              "LogisticRegression(C=1.0, class_weight=None, dual=False, fit_intercept=True,\n",
              "                   intercept_scaling=1, l1_ratio=None, max_iter=100,\n",
              "                   multi_class='auto', n_jobs=None, penalty='l2',\n",
              "                   random_state=None, solver='lbfgs', tol=0.0001, verbose=0,\n",
              "                   warm_start=False)"
            ]
          },
          "metadata": {},
          "execution_count": 27
        }
      ]
    },
    {
      "cell_type": "markdown",
      "metadata": {
        "id": "H9FYWyKjalvC"
      },
      "source": [
        "Model Evaluation"
      ]
    },
    {
      "cell_type": "markdown",
      "metadata": {
        "id": "O6O6kbwYaoxH"
      },
      "source": [
        "Accuracy Score"
      ]
    },
    {
      "cell_type": "code",
      "metadata": {
        "id": "pC2kCJhOaage"
      },
      "source": [
        "# accuracy on training data\n",
        "X_train_prediction = model.predict(X_train)\n",
        "training_data_accuracy = accuracy_score(X_train_prediction, Y_train)"
      ],
      "execution_count": 28,
      "outputs": []
    },
    {
      "cell_type": "code",
      "metadata": {
        "colab": {
          "base_uri": "https://localhost:8080/"
        },
        "id": "Ijq6gAevbDwm",
        "outputId": "6af6e9cc-11f1-482a-ef4c-e092214bb255"
      },
      "source": [
        "print('Accuracy on Training data : ', training_data_accuracy)"
      ],
      "execution_count": 29,
      "outputs": [
        {
          "output_type": "stream",
          "name": "stdout",
          "text": [
            "Accuracy on Training data :  0.9840182648401826\n"
          ]
        }
      ]
    },
    {
      "cell_type": "code",
      "metadata": {
        "id": "tryJUs6mbJM7"
      },
      "source": [
        "# accuracy on test data\n",
        "X_test_prediction = model.predict(X_test)\n",
        "test_data_accuracy = accuracy_score(X_test_prediction, Y_test)"
      ],
      "execution_count": 30,
      "outputs": []
    },
    {
      "cell_type": "code",
      "metadata": {
        "colab": {
          "base_uri": "https://localhost:8080/"
        },
        "id": "lxEuN24ib3hS",
        "outputId": "2cc43058-50f0-4e8c-ddb9-d27634c7292a"
      },
      "source": [
        "print('Accuracy score on Test Data : ', test_data_accuracy)"
      ],
      "execution_count": 31,
      "outputs": [
        {
          "output_type": "stream",
          "name": "stdout",
          "text": [
            "Accuracy score on Test Data :  0.9727272727272728\n"
          ]
        }
      ]
    },
    {
      "cell_type": "code",
      "metadata": {
        "colab": {
          "base_uri": "https://localhost:8080/",
          "height": 100
        },
        "id": "dRfIvA9FQcxH",
        "outputId": "bf8b42be-d772-4005-e508-575ab3d5c121"
      },
      "source": [
        "X_test[100:101]\n",
        "\n"
      ],
      "execution_count": 36,
      "outputs": [
        {
          "output_type": "execute_result",
          "data": {
            "text/html": [
              "<div>\n",
              "<style scoped>\n",
              "    .dataframe tbody tr th:only-of-type {\n",
              "        vertical-align: middle;\n",
              "    }\n",
              "\n",
              "    .dataframe tbody tr th {\n",
              "        vertical-align: top;\n",
              "    }\n",
              "\n",
              "    .dataframe thead th {\n",
              "        text-align: right;\n",
              "    }\n",
              "</style>\n",
              "<table border=\"1\" class=\"dataframe\">\n",
              "  <thead>\n",
              "    <tr style=\"text-align: right;\">\n",
              "      <th></th>\n",
              "      <th>Time</th>\n",
              "      <th>V1</th>\n",
              "      <th>V2</th>\n",
              "      <th>V3</th>\n",
              "      <th>V4</th>\n",
              "      <th>V5</th>\n",
              "      <th>V6</th>\n",
              "      <th>V7</th>\n",
              "      <th>V8</th>\n",
              "      <th>V9</th>\n",
              "      <th>V10</th>\n",
              "      <th>V11</th>\n",
              "      <th>V12</th>\n",
              "      <th>V13</th>\n",
              "      <th>V14</th>\n",
              "      <th>V15</th>\n",
              "      <th>V16</th>\n",
              "      <th>V17</th>\n",
              "      <th>V18</th>\n",
              "      <th>V19</th>\n",
              "      <th>V20</th>\n",
              "      <th>V21</th>\n",
              "      <th>V22</th>\n",
              "      <th>V23</th>\n",
              "      <th>V24</th>\n",
              "      <th>V25</th>\n",
              "      <th>V26</th>\n",
              "      <th>V27</th>\n",
              "      <th>V28</th>\n",
              "      <th>Amount</th>\n",
              "    </tr>\n",
              "  </thead>\n",
              "  <tbody>\n",
              "    <tr>\n",
              "      <th>1853</th>\n",
              "      <td>1433</td>\n",
              "      <td>1.362088</td>\n",
              "      <td>-1.207628</td>\n",
              "      <td>0.891732</td>\n",
              "      <td>-1.323703</td>\n",
              "      <td>-1.650829</td>\n",
              "      <td>-0.054508</td>\n",
              "      <td>-1.386058</td>\n",
              "      <td>0.113331</td>\n",
              "      <td>-1.622994</td>\n",
              "      <td>1.332663</td>\n",
              "      <td>0.226684</td>\n",
              "      <td>-0.639789</td>\n",
              "      <td>0.4593</td>\n",
              "      <td>-0.411391</td>\n",
              "      <td>1.326892</td>\n",
              "      <td>-0.8338</td>\n",
              "      <td>1.058877</td>\n",
              "      <td>-0.700451</td>\n",
              "      <td>-1.294148</td>\n",
              "      <td>-0.369493</td>\n",
              "      <td>0.024994</td>\n",
              "      <td>0.524326</td>\n",
              "      <td>0.088893</td>\n",
              "      <td>0.087156</td>\n",
              "      <td>0.142786</td>\n",
              "      <td>-0.06554</td>\n",
              "      <td>0.082852</td>\n",
              "      <td>0.026045</td>\n",
              "      <td>25.6</td>\n",
              "    </tr>\n",
              "  </tbody>\n",
              "</table>\n",
              "</div>"
            ],
            "text/plain": [
              "      Time        V1        V2        V3  ...      V26       V27       V28  Amount\n",
              "1853  1433  1.362088 -1.207628  0.891732  ... -0.06554  0.082852  0.026045    25.6\n",
              "\n",
              "[1 rows x 30 columns]"
            ]
          },
          "metadata": {},
          "execution_count": 36
        }
      ]
    },
    {
      "cell_type": "markdown",
      "metadata": {
        "id": "3qkZt9lcQSVx"
      },
      "source": [
        "###building a predictive systeam"
      ]
    },
    {
      "cell_type": "code",
      "metadata": {
        "colab": {
          "base_uri": "https://localhost:8080/"
        },
        "id": "cCY0-psSQQS2",
        "outputId": "1a46a67c-8ce1-4ce4-b5da-53873be92ba3"
      },
      "source": [
        "data = (1433,\t1.362088,\t-1.207628\t,0.891732\t,-1.323703\t,-1.650829\t,-0.054508\t,-1.386058\t,0.113331,\t-1.622994\t,1.332663\t,0.226684,\t-0.639789\t,0.4593\t,-0.411391,\t1.326892,\t-0.8338,\t1.058877\t,-0.700451\t,-1.294148,\t-0.369493\t,0.024994\t,0.524326\t,0.088893,\t0.087156,\t0.142786\t,-0.06554,\t0.082852,\t0.026045,\t25.6)\n",
        "\n",
        "input_data = np.asarray(data)\n",
        "input_data_reshaped = input_data.reshape(1, -1)\n",
        "prediction = model.predict(input_data_reshaped)\n",
        "print(prediction)\n",
        "if(prediction[0]==0):\n",
        "  print(\"not a fraud transaction \")\n",
        "else:\n",
        "  print(\"fraud transaction\")"
      ],
      "execution_count": 39,
      "outputs": [
        {
          "output_type": "stream",
          "name": "stdout",
          "text": [
            "[0.]\n",
            "not a fraud transaction \n"
          ]
        }
      ]
    }
  ]
}